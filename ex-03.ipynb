{
 "cells": [
  {
   "cell_type": "code",
   "execution_count": null,
   "metadata": {},
   "outputs": [],
   "source": [
    "from time import strftime, localtime\n",
    "# Exercise 1 - Create a list of 3 elements and calculate the third power of each element.\n",
    "\n",
    "list1 = [3, 4, 5]\n",
    "pow = list(map(lambda x: x**3, list1))\n",
    "\n",
    "print(pow)\n"
   ]
  },
  {
   "cell_type": "code",
   "execution_count": null,
   "metadata": {},
   "outputs": [],
   "source": [
    "# Exercise 2 - Rewrite the code below, using the map() function. The end result must be\n",
    "# the same!\n",
    "\n",
    "words = 'The Data Science Academy offers the best data analysis courses in Brazil'.split()\n",
    "result = list(map(lambda w: [w.upper(), w.lower(), len(w)], words))\n",
    "for i in result:\n",
    "    print(i)\n"
   ]
  },
  {
   "cell_type": "code",
   "execution_count": null,
   "metadata": {},
   "outputs": [],
   "source": [
    "# Exercise 3 - Calculate the transposed matrix of the matrix below.\n",
    "# If you don't know what a transposed matrix is, visit this link:\n",
    "# https://pt.wikipedia.org/wiki/Matriz_transposta\n",
    "# Transposed matrix is a fundamental concept in the construction of artificial neural networks,\n",
    "# AI systems base.\n",
    "\n",
    "matrix = [[1, 2], [3, 4], [5, 6], [7, 8]]\n",
    "\n",
    "for i in matrix:\n",
    "    print(i)\n"
   ]
  },
  {
   "cell_type": "code",
   "execution_count": null,
   "metadata": {},
   "outputs": [],
   "source": [
    "# Exercise 4 - Create two functions, one to square a number and one to\n",
    "# elevate to the cube.\n",
    "# Apply both functions to the list elements below.\n",
    "# Note: both functions must be applied simultaneously.\n",
    "\n",
    "list2 = [0, 1, 2, 3, 4]\n",
    "\n",
    "\n",
    "def square(x):\n",
    "    return list(map(lambda x: x**2, x))\n",
    "\n",
    "\n",
    "def cube(x):\n",
    "    return list(map(lambda x: x**3, x))\n",
    "\n",
    "\n",
    "for i in range(1):\n",
    "    print(square(list2))\n",
    "    print(cube(list2))\n"
   ]
  },
  {
   "cell_type": "code",
   "execution_count": null,
   "metadata": {},
   "outputs": [],
   "source": [
    "# Exercise 5 - Below you will find two lists. Make each element of listA be\n",
    "# raised to the corresponding element in listB.\n",
    "\n",
    "listA = [2, 3, 4]\n",
    "listB = [10, 11, 12]\n",
    "print(list(map(pow, listA, listB)))\n"
   ]
  },
  {
   "cell_type": "code",
   "execution_count": null,
   "metadata": {},
   "outputs": [],
   "source": [
    "# Exercise 6 - Considering the range of values below, use the filter() function\n",
    "# to return only negative values.\n",
    "\n",
    "range(-5, 5)\n",
    "\n",
    "\n",
    "def less_than_zero(x):\n",
    "    if x < 0:\n",
    "        return True\n",
    "    else:\n",
    "        return False\n",
    "\n",
    "\n",
    "print(list(filter(less_than_zero, range(-5, 5))))\n"
   ]
  },
  {
   "cell_type": "code",
   "execution_count": null,
   "metadata": {},
   "outputs": [],
   "source": [
    "# Exercise 7 - Using the filter() function,\n",
    "# find the values that are common to the two lists below.\n",
    "\n",
    "a = [1, 2, 3, 5, 7, 9]\n",
    "b = [2, 3, 5, 6, 7, 8]\n",
    "\n",
    "print(list(filter(lambda x: x in a, b)))\n"
   ]
  },
  {
   "cell_type": "code",
   "execution_count": null,
   "metadata": {},
   "outputs": [],
   "source": [
    "# Exercise 8 - Consider the code below. Get the same result using the time package.\n",
    "# Don't know the time package? Search!\n",
    "# print(datetime.datetime.now().strftime(\"%d/%m/%Y %H:%M\"))\n",
    "\n",
    "print(strftime(\"%d/%m/%Y %H:%M\", localtime()))\n"
   ]
  },
  {
   "cell_type": "code",
   "execution_count": null,
   "metadata": {},
   "outputs": [],
   "source": [
    "# Exercise 9 - Consider the two dictionaries below.\n",
    "# Create a third dictionary with the keys from dictionary 1 and the values from dictionary 2.\n",
    "\n",
    "dict1 = {'a': 1, 'b': 2}\n",
    "dict2 = {'c': 4, 'd': 5}\n",
    "\n",
    "\n",
    "def exchangeValues(d1, d2):\n",
    "    dicTemp = {}\n",
    "\n",
    "    for d1key, d2val in zip(d1, d2.values()):\n",
    "        dicTemp[d1key] = d2val\n",
    "    return dicTemp\n",
    "\n",
    "\n",
    "dict3 = exchangeValues(dict1, dict2)\n",
    "print(dict3)\n"
   ]
  },
  {
   "cell_type": "code",
   "execution_count": null,
   "metadata": {},
   "outputs": [],
   "source": [
    "# Exercise 10 - Consider the list below and return only those elements whose index is\n",
    "# greater than 5.\n",
    "\n",
    "list = ['a', 'b', 'c', 'd', 'e', 'f', 'g', 'h']\n",
    "for index, value in enumerate(list):\n",
    "    if index <= 5:\n",
    "        continue\n",
    "    else:\n",
    "        print(value)\n"
   ]
  }
 ],
 "metadata": {
  "kernelspec": {
   "display_name": "Python 3.10.6 64-bit",
   "language": "python",
   "name": "python3"
  },
  "language_info": {
   "name": "python",
   "version": "3.10.6"
  },
  "orig_nbformat": 4,
  "vscode": {
   "interpreter": {
    "hash": "bf55a5144c282b5bd331c781bde1ab06e81395a01f48b364fc673a2c1b5c22d7"
   }
  }
 },
 "nbformat": 4,
 "nbformat_minor": 2
}
