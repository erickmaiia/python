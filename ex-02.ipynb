{
 "cells": [
  {
   "cell_type": "code",
   "execution_count": null,
   "metadata": {},
   "outputs": [],
   "source": [
    "import pandas as pd\n",
    "\n",
    "# Exercise 1 - Create a structure that asks the user for the day of the week. if the day is\n",
    "# equal to Sunday or equal to Saturday, print on the screen \"Today is a day of rest\", otherwise\n",
    "# print on screen \"You need to work!\"\n",
    "\n",
    "day = input('Enter the day of the week:')\n",
    "if day == 'Sunday' or day == 'Saturday':\n",
    "    print(\"Today is resting day\")\n",
    "else:\n",
    "    print(\"You need to work!\")\n"
   ]
  },
  {
   "cell_type": "code",
   "execution_count": null,
   "metadata": {},
   "outputs": [],
   "source": [
    "# Exercise 2 - Create a list of 5 fruits and check if the 'Strawberry' fruit is part of the list\n",
    "\n",
    "list1 = ['Orange', 'Apple', 'Pineapple', 'Grape', 'Strawberry']\n",
    "for fruit in list1:\n",
    "    if fruit == 'Strawberry':\n",
    "        print(\"Strawberry is part of the fruit list\")\n"
   ]
  },
  {
   "cell_type": "code",
   "execution_count": null,
   "metadata": {},
   "outputs": [],
   "source": [
    "# Exercise 3 - Create a 4-element tuple, multiply each element of the tuple by 2 and save\n",
    "# the results in a list\n",
    "\n",
    "tuple1 = (1, 2, 3, 4)\n",
    "list2 = []\n",
    "\n",
    "for i in tuple1:\n",
    "    list2.append(i * 2)\n",
    "print(list2)\n"
   ]
  },
  {
   "cell_type": "code",
   "execution_count": null,
   "metadata": {},
   "outputs": [],
   "source": [
    "# Exercise 4 - Create a sequence of even numbers between 100 and 150 and print it on the screen\n",
    "\n",
    "for i in range(100, 151, 2):\n",
    "    print(i)\n"
   ]
  },
  {
   "cell_type": "code",
   "execution_count": null,
   "metadata": {},
   "outputs": [],
   "source": [
    "# Exercise 5 - Create a variable called temperature and assign the value 40. While temperature\n",
    "# is greater than 35, print the temperatures on the screen\n",
    "\n",
    "temperature = 40\n",
    "while temperature > 35:\n",
    "    print(temperature)\n",
    "    temperature = temperature - 1\n"
   ]
  },
  {
   "cell_type": "code",
   "execution_count": null,
   "metadata": {},
   "outputs": [],
   "source": [
    "# Exercise 6 - Create a variable called counter = 0. As long as counter is less than 100,\n",
    "# print the values on the screen, but when the value 23 is found, stop the execution of the\n",
    "# program\n",
    "\n",
    "cont = 0\n",
    "\n",
    "while cont < 100:\n",
    "    cont += 1\n",
    "    print(cont)\n",
    "    if cont == 23:\n",
    "        print('program interrupted')\n",
    "        break\n"
   ]
  },
  {
   "cell_type": "code",
   "execution_count": null,
   "metadata": {},
   "outputs": [],
   "source": [
    "# Exercise 7 - Create an empty list and a variable with value 4. While the variable's value\n",
    "# is less than or equal to 20, add only even values to the list and print the list\n",
    "\n",
    "list3 = []\n",
    "x = 4\n",
    "\n",
    "while x <= 20:\n",
    "    x += 2\n",
    "    list3.append(x)\n",
    "print(list3)\n"
   ]
  },
  {
   "cell_type": "code",
   "execution_count": null,
   "metadata": {},
   "outputs": [],
   "source": [
    "# Exercise 8 - Transform the result of this range function into a list: range(5, 45, 2)\n",
    "# nums = range(5, 45, 2)\n",
    "\n",
    "nums = range(5, 45, 2)\n",
    "print(list(nums))\n"
   ]
  },
  {
   "cell_type": "code",
   "execution_count": null,
   "metadata": {},
   "outputs": [],
   "source": [
    "# Exercise 9 - Correct the errors in the code below and run the program. Tip:\n",
    "# are 3 errors.\n",
    "\n",
    "temperature = float(input(\"What's the temperature? \"))\n",
    "\n",
    "if temperature > 30:\n",
    "    print('Wear light clothes.')\n",
    "else:\n",
    "    print('Find your coats.')\n"
   ]
  },
  {
   "cell_type": "code",
   "execution_count": null,
   "metadata": {},
   "outputs": [],
   "source": [
    "# Exercise 10 - Write a program that counts how many times the letter \"r\" appears in the sentence below.\n",
    "# Use a placeholder in your print statement\n",
    "# “It is better, much better, to be content with reality; if she's not as bright as the ones\n",
    "# dreams, has at least the advantage of existing.” (Machado de Assis)\n",
    "\n",
    "phrase = \"It is better, far better, to be content with reality; if it is not so bright \\\n",
    "like dreams, has at least the advantage of existing.\"\n",
    "\n",
    "count = 0\n",
    "for character in phrase:\n",
    "    if character == 'r':\n",
    "        count += 1\n",
    "print(f\"The character r appears {count} times in the sentence.\")\n"
   ]
  },
  {
   "cell_type": "code",
   "execution_count": null,
   "metadata": {},
   "outputs": [],
   "source": [
    "# Exercise 11 - Create a function that prints the sequence of even numbers between 1 and 20\n",
    "# (the function does not receive a parameter) and then make a call to the function to list\n",
    "# the numbers\n",
    "\n",
    "\n",
    "def func1():\n",
    "    for i in range(2, 21, 2):\n",
    "        print(i)\n",
    "\n",
    "\n",
    "func1()\n"
   ]
  },
  {
   "cell_type": "code",
   "execution_count": null,
   "metadata": {},
   "outputs": [],
   "source": [
    "# Exercise 12 - Create a function that takes a string as an argument and returns the same\n",
    "# string in capital letters. # Make a call to the function, passing a string as a parameter\n",
    "\n",
    "\n",
    "def func2(string):\n",
    "    return string.upper()\n",
    "\n",
    "\n",
    "func2(\"hellow word!!\")\n"
   ]
  },
  {
   "cell_type": "code",
   "execution_count": null,
   "metadata": {},
   "outputs": [],
   "source": [
    "# Exercise 13 - Create a function that takes as a parameter a list of 4 elements, adds 2\n",
    "# elements to the list and print the list\n",
    "\n",
    "list4 = [1, 2, 3, 4]\n",
    "\n",
    "\n",
    "def func3(liist):\n",
    "    liist.append(5)\n",
    "    liist.append(6)\n",
    "\n",
    "\n",
    "print(list4)\n",
    "func3(list4)\n",
    "print(list4)\n"
   ]
  },
  {
   "cell_type": "code",
   "execution_count": null,
   "metadata": {},
   "outputs": [],
   "source": [
    "# Exercise 14 - Create a function that takes a formal argument and a possible list of elements.\n",
    "# make two calls to the function, with only 1 element and in the second call with 4 elements\n",
    "\n",
    "def func4(arg, *list5):\n",
    "    print(arg)\n",
    "    for i in list5:\n",
    "        print(i)\n",
    "    return\n",
    "\n",
    "\n",
    "func4(100)\n",
    "func4('A', 'B', 'C')\n"
   ]
  },
  {
   "cell_type": "code",
   "execution_count": null,
   "metadata": {},
   "outputs": [],
   "source": [
    "# Exercise 15 - Create an anonymous function and assign its return to a variable called sum.\n",
    "# The expression will receive 2 numbers as a parameter and return their sum\n",
    "\n",
    "\n",
    "def suum(x, y): return x + y\n",
    "\n",
    "\n",
    "suum(1, 2)\n"
   ]
  },
  {
   "cell_type": "code",
   "execution_count": null,
   "metadata": {},
   "outputs": [],
   "source": [
    "# Exercise 16 - Run the code below and make sure you understand the difference between global\n",
    "# and local variable\n",
    "total = 0\n",
    "\n",
    "\n",
    "def suum2(arg1, arg2):\n",
    "    total = arg1 + arg2\n",
    "    print(\"Inside the function: \", total)\n",
    "    return total\n",
    "\n",
    "\n",
    "suum2(10, 20)\n",
    "print(\"Out of function: \", total)\n"
   ]
  },
  {
   "cell_type": "code",
   "execution_count": null,
   "metadata": {},
   "outputs": [],
   "source": [
    "# Exercise 17 - Below you will find a list with temperatures in degrees Celsius\n",
    "# Create an anonymous function that converts each temperature to Fahrenheit\n",
    "# Tip: to be able to perform this exercise, you must create your lambda function, inside\n",
    "# a function (which will be studied in the next chapter).\n",
    "# This allows you to apply your function to each element in the list How to find the math\n",
    "# formula that converts from Celsius to Fahrenheit? Search!!!\n",
    "\n",
    "Celsius = [39.2, 36.5, 37.3, 37.8]\n",
    "Fahrenheit = map(lambda x: (float(9)/5)*x + 32, Celsius)\n",
    "print(list(Fahrenheit))\n"
   ]
  },
  {
   "cell_type": "code",
   "execution_count": null,
   "metadata": {},
   "outputs": [],
   "source": [
    "# Exercise 18 Create a dictionary and list all dictionary methods and attributes\n",
    "\n",
    "dic = {'key1': 'value1', 'key2': 'value2'}\n",
    "dir(dic)\n"
   ]
  },
  {
   "cell_type": "code",
   "execution_count": null,
   "metadata": {},
   "outputs": [],
   "source": [
    "# Exercise 19\n",
    "# Below you can find the Pandas import, one of the main Python packages for data analysis.\n",
    "# Carefully review all available methods. One of them you will use in the next exercise.\n",
    "dir(pd)\n"
   ]
  },
  {
   "cell_type": "code",
   "execution_count": null,
   "metadata": {},
   "outputs": [],
   "source": [
    "# Exercise 20 - Create a function that takes the file below as an argument and returns a descriptive\n",
    "# statistical summary of the file. Tip, use Pandas and one of its methods, describe() File: \"binary.csv\"\n",
    "# Set file location\n",
    "\n",
    "file_name = \"binary.csv\"\n",
    "\n",
    "\n",
    "def func5(file):\n",
    "    df = pd.read_csv(file)\n",
    "    return df.describe()\n",
    "\n",
    "\n",
    "func5(file_name)\n"
   ]
  }
 ],
 "metadata": {
  "kernelspec": {
   "display_name": "Python 3.10.6 64-bit",
   "language": "python",
   "name": "python3"
  },
  "language_info": {
   "name": "python",
   "version": "3.10.6"
  },
  "orig_nbformat": 4,
  "vscode": {
   "interpreter": {
    "hash": "bf55a5144c282b5bd331c781bde1ab06e81395a01f48b364fc673a2c1b5c22d7"
   }
  }
 },
 "nbformat": 4,
 "nbformat_minor": 2
}
