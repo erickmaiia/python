{
 "cells": [
  {
   "cell_type": "code",
   "execution_count": null,
   "metadata": {},
   "outputs": [],
   "source": [
    "# Exercise 1 - Print the numbers from 1 to 10 on the screen. Use a list to store the numbers.\n",
    "\n",
    "list1 = []\n",
    "for i in range(1, 11):\n",
    "    list1.append(i)\n",
    "print(list1)\n"
   ]
  },
  {
   "cell_type": "code",
   "execution_count": null,
   "metadata": {},
   "outputs": [],
   "source": [
    "# Exercise 2 - Create a list of 5 objects and print it on the screen\n",
    "\n",
    "list2 = ['Erick', 19, 1.74, True, 'Books']\n",
    "print(list2)\n"
   ]
  },
  {
   "cell_type": "code",
   "execution_count": null,
   "metadata": {},
   "outputs": [],
   "source": [
    "# Exercise 3 - Create two strings and concatenate the two into a third string\n",
    "\n",
    "x = 'Hello '\n",
    "y = 'Word!'\n",
    "z = x + y\n",
    "print(z)\n"
   ]
  },
  {
   "cell_type": "code",
   "execution_count": null,
   "metadata": {},
   "outputs": [],
   "source": [
    "# Exercise 4 - Create a tuple with the following elements: 1, 2, 2, 3, 4, 4, 4, 5 and then use the count function of\n",
    "# tuple object to check how many times the number 4 appears in the tuple\n",
    "\n",
    "tuple1 = (1, 2, 2, 3, 4, 4, 4, 5)\n",
    "print(tuple1.count(4))\n"
   ]
  },
  {
   "cell_type": "code",
   "execution_count": null,
   "metadata": {},
   "outputs": [],
   "source": [
    "# Exercise 5 - Create an empty dictionary and print it to the screen\n",
    "\n",
    "dict1 = {}\n",
    "print(dict1)\n"
   ]
  },
  {
   "cell_type": "code",
   "execution_count": null,
   "metadata": {},
   "outputs": [],
   "source": [
    "# Exercise 6 - Create a dictionary with 3 keys and 3 values ​​and print it on the screen\n",
    "\n",
    "dict2 = {\n",
    "    'name': 'Erick',\n",
    "    'age': 19,\n",
    "    'height': 1.74,\n",
    "}\n",
    "print(dict2)\n"
   ]
  },
  {
   "cell_type": "code",
   "execution_count": null,
   "metadata": {},
   "outputs": [],
   "source": [
    "# Exercise 7 - Add one more element to the dictionary created in the previous exercise\n",
    "# and print it on the screen\n",
    "\n",
    "ditc3 = {'programer': True}\n",
    "dict2.update(ditc3)\n",
    "print(dict2)\n"
   ]
  },
  {
   "cell_type": "code",
   "execution_count": null,
   "metadata": {},
   "outputs": [],
   "source": [
    "# Exercise 8 - Create a dictionary with 3 keys and 3 values. One of the values ​​must be a list of 2 numeric\n",
    "# elements. Print the dictionary on the screen.\n",
    "\n",
    "dict4 = {\n",
    "    'name': 'Erick',\n",
    "    'age': 19,\n",
    "    'height': [1.74, 18]\n",
    "}\n",
    "print(dict4)\n"
   ]
  },
  {
   "cell_type": "code",
   "execution_count": null,
   "metadata": {},
   "outputs": [],
   "source": [
    "# Exercise 9 - Create a list of 4 elements. The first element must be a string,\n",
    "# the second a 2-element tuple, the third a dictionary with 2 keys and 2 values ​​and\n",
    "# the fourth element a value of type float.\n",
    "# Print the list on the screen.\n",
    "\n",
    "list3 = ['Erick',\n",
    "         (1, 2),\n",
    "         {'key1': 'value1',\n",
    "          'key2': 'value2'},\n",
    "         1.74]\n",
    "print(list3)\n"
   ]
  },
  {
   "cell_type": "code",
   "execution_count": null,
   "metadata": {},
   "outputs": [],
   "source": [
    "# Exercise 10 - Consider the string below. Print on the screen only characters from position\n",
    "#  1 to 18.\n",
    "\n",
    "phrase = 'Data Scientist is the Sexiest Professional of the 21st Century'\n",
    "print(phrase[0:18])\n"
   ]
  }
 ],
 "metadata": {
  "kernelspec": {
   "display_name": "Python 3.10.6 64-bit",
   "language": "python",
   "name": "python3"
  },
  "language_info": {
   "name": "python",
   "version": "3.10.6"
  },
  "orig_nbformat": 4,
  "vscode": {
   "interpreter": {
    "hash": "bf55a5144c282b5bd331c781bde1ab06e81395a01f48b364fc673a2c1b5c22d7"
   }
  }
 },
 "nbformat": 4,
 "nbformat_minor": 2
}
